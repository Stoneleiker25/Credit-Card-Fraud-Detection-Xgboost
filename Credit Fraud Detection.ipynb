{
 "cells": [
  {
   "cell_type": "code",
   "execution_count": 46,
   "id": "ee7692b5-baac-4cec-bb47-fbc50be68f2b",
   "metadata": {},
   "outputs": [],
   "source": [
    "import pandas as pd\n",
    "import numpy as np\n",
    "import xgboost as xgb\n",
    "from sklearn.model_selection import train_test_split\n",
    "from sklearn.preprocessing import StandardScaler\n",
    "from sklearn.metrics import classification_report\n"
   ]
  },
  {
   "cell_type": "code",
   "execution_count": 48,
   "id": "de35dbc3-bd65-4d23-90b7-14d503d1aa5b",
   "metadata": {},
   "outputs": [],
   "source": [
    "df = pd.read_csv(\"Credit Card Fraud Detection.csv\")\n",
    "df = df.drop(columns=[\"Time\"])\n",
    "\n",
    "X = df.drop(columns=[\"Class\"])\n",
    "y = df[\"Class\"]\n",
    "\n",
    "X_train, X_test, y_train, y_test = train_test_split(X, y, test_size=0.2, random_state=42)\n",
    "\n",
    "# Scale features\n",
    "scaler = StandardScaler()\n",
    "X_train_scaled = scaler.fit_transform(X_train)\n",
    "X_test_scaled = scaler.transform(X_test)\n"
   ]
  },
  {
   "cell_type": "code",
   "execution_count": 50,
   "id": "29181bd4-d274-4cac-a291-f0949b570c78",
   "metadata": {},
   "outputs": [],
   "source": [
    "dtrain = xgb.DMatrix(X_train_scaled, label=y_train)\n",
    "dtest = xgb.DMatrix(X_test_scaled, label=y_test)\n",
    "\n",
    "params = {\n",
    "    'objective': 'binary:logistic',\n",
    "    'eval_metric': 'auc',\n",
    "    'max_depth': 5,\n",
    "    'eta': 0.2,\n",
    "    'seed': 42\n",
    "}\n",
    "\n",
    "model = xgb.train(params, dtrain, num_boost_round=100)\n"
   ]
  },
  {
   "cell_type": "code",
   "execution_count": 58,
   "id": "a341469f-9266-43a2-b883-d4e2410f9325",
   "metadata": {},
   "outputs": [
    {
     "name": "stdout",
     "output_type": "stream",
     "text": [
      "Threshold 0.5 →  Predicted Fraud Count: 91\n",
      "Threshold 0.4 →  Predicted Fraud Count: 93\n",
      "Threshold 0.3 →  Predicted Fraud Count: 95\n",
      "Threshold 0.2 →  Predicted Fraud Count: 98\n",
      "Threshold 0.1 →  Predicted Fraud Count: 99\n"
     ]
    }
   ],
   "source": [
    "probs = model.predict(dtest)\n",
    "\n",
    "for t in [0.5, 0.4, 0.3, 0.2, 0.1]:\n",
    "    preds = (probs > t).astype(int)\n",
    "    fraud_total = np.sum(preds == 1)\n",
    "    print(f\"Threshold {t:.1f} →  Predicted Fraud Count: {fraud_total}\")\n"
   ]
  },
  {
   "cell_type": "code",
   "execution_count": 60,
   "id": "aaac086a-d27b-420c-86f1-eb6ffc3e9bbe",
   "metadata": {},
   "outputs": [
    {
     "name": "stdout",
     "output_type": "stream",
     "text": [
      "Predicted total frauds in full dataset: 506\n",
      "Actual total frauds: 492\n"
     ]
    }
   ],
   "source": [
    "# Scale full dataset\n",
    "scaler = StandardScaler()\n",
    "X_scaled = scaler.fit_transform(X)\n",
    "dall = xgb.DMatrix(X_scaled)\n",
    "\n",
    "# Train on all\n",
    "model = xgb.train(params, xgb.DMatrix(X_scaled, label=y), num_boost_round=100)\n",
    "\n",
    "# Predict\n",
    "probs_all = model.predict(dall)\n",
    "preds_all = (probs_all > 0.1).astype(int)  # use lower threshold\n",
    "\n",
    "fraud_total = np.sum(preds_all == 1)\n",
    "print(\"Predicted total frauds in full dataset:\", fraud_total)\n",
    "\n",
    "# Actual\n",
    "print(\"Actual total frauds:\", np.sum(y == 1))\n"
   ]
  },
  {
   "cell_type": "code",
   "execution_count": null,
   "id": "c33a992f-be43-491a-be7a-74d94fb7560a",
   "metadata": {},
   "outputs": [],
   "source": []
  }
 ],
 "metadata": {
  "kernelspec": {
   "display_name": "Python [conda env:base] *",
   "language": "python",
   "name": "conda-base-py"
  },
  "language_info": {
   "codemirror_mode": {
    "name": "ipython",
    "version": 3
   },
   "file_extension": ".py",
   "mimetype": "text/x-python",
   "name": "python",
   "nbconvert_exporter": "python",
   "pygments_lexer": "ipython3",
   "version": "3.12.7"
  }
 },
 "nbformat": 4,
 "nbformat_minor": 5
}
